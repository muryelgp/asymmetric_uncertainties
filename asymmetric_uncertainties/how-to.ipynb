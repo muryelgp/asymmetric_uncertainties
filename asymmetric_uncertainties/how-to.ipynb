{
 "cells": [
  {
   "cell_type": "markdown",
   "metadata": {},
   "source": [
    "# Examples of how to use asymmetric_uncertainties package"
   ]
  },
  {
   "cell_type": "markdown",
   "metadata": {},
   "source": [
    "python module available on [Github](https://github.com/muryelgp/asymmetric_uncertainties/)."
   ]
  },
  {
   "cell_type": "markdown",
   "metadata": {},
   "source": [
    "### Basic Functions"
   ]
  },
  {
   "cell_type": "code",
   "execution_count": 1,
   "metadata": {},
   "outputs": [],
   "source": [
    "from asymmetric_uncertainties import aufloat"
   ]
  },
  {
   "cell_type": "markdown",
   "metadata": {},
   "source": [
    "A measurment with some uncertanty, for exaple:\n",
    "\n",
    "$a = 10^{+0.5}_{-1.0}$ \n",
    "\n",
    "and\n",
    "\n",
    "$b = 20^{+3.0}_{-2.0}$ \n",
    "\n",
    "with errors at a 68% confidence level are instanciated as 'aufloat' objects:"
   ]
  },
  {
   "cell_type": "code",
   "execution_count": 2,
   "metadata": {},
   "outputs": [],
   "source": [
    "a = aufloat(10, 1.0, 0.5, confidence = 68)\n",
    "b = aufloat(20, 2.0 ,3.0, confidence = 68)"
   ]
  },
  {
   "cell_type": "markdown",
   "metadata": {},
   "source": [
    "The confidence levels of the errors can be pass through 'confidence' parameter, with 3 pre-defined options:\n",
    "\n",
    "                           Confidence    Δχ2 \n",
    "                              68%       1.0\n",
    "                              90%       2.7\n",
    "                              95%       4.0\n",
    "                              \n",
    "for example for 90% confidence (Δχ2 = 2.7)                              "
   ]
  },
  {
   "cell_type": "code",
   "execution_count": 3,
   "metadata": {},
   "outputs": [],
   "source": [
    "c = aufloat(10, 1.1, 0.7, confidence = 90)"
   ]
  },
  {
   "cell_type": "markdown",
   "metadata": {},
   "source": [
    "Or another Δχ2 value can be pass through 'delta_chi2' parameter:"
   ]
  },
  {
   "cell_type": "code",
   "execution_count": null,
   "metadata": {},
   "outputs": [],
   "source": [
    "d = aufloat(10, 2.0, 0.7, delta_chi2 = 4.7)"
   ]
  },
  {
   "cell_type": "markdown",
   "metadata": {},
   "source": [
    "You can print the objects with:"
   ]
  },
  {
   "cell_type": "code",
   "execution_count": null,
   "metadata": {
    "scrolled": true
   },
   "outputs": [
    {
     "name": "stdout",
     "output_type": "stream",
     "text": [
      "1.00e+01 (-1.00e+00/+5.00e-01)\n",
      "68% confidence level (Δχ2=1.00)\n"
     ]
    }
   ],
   "source": [
    "print(a)"
   ]
  },
  {
   "cell_type": "markdown",
   "metadata": {},
   "source": [
    "### Plotting\n",
    "\n"
   ]
  },
  {
   "cell_type": "markdown",
   "metadata": {},
   "source": [
    "Each 'aufloat' has a Probability Distribution Function (PDF), you can plot it by doing:"
   ]
  },
  {
   "cell_type": "code",
   "execution_count": null,
   "metadata": {},
   "outputs": [],
   "source": [
    "c.plot_pdf()\n"
   ]
  },
  {
   "cell_type": "markdown",
   "metadata": {},
   "source": [
    "It also has a Δχ2 curve:"
   ]
  },
  {
   "cell_type": "code",
   "execution_count": null,
   "metadata": {
    "scrolled": true
   },
   "outputs": [],
   "source": [
    "c.plot_delta_chi2_curve()\n"
   ]
  },
  {
   "cell_type": "markdown",
   "metadata": {},
   "source": [
    "### Propagation of uncertanties\n"
   ]
  },
  {
   "cell_type": "markdown",
   "metadata": {},
   "source": [
    "For simple operations (sum, subtraction, division, product and power) are straigthfoward by using standart python operations between 'aufloat' objects:"
   ]
  },
  {
   "cell_type": "code",
   "execution_count": null,
   "metadata": {},
   "outputs": [],
   "source": [
    "e = c + d #or using other operations like -, *, / and **\n",
    "print(e)"
   ]
  },
  {
   "cell_type": "markdown",
   "metadata": {},
   "source": [
    "Other functions/operations are deal as follows:\n",
    "\n",
    "assume you have \n",
    "\n",
    "$a = 10^{+1.5}_{-3.0}$ \n",
    "and\n",
    "$b = 20^{+1.5}_{-5.5}$ \n",
    "\n",
    "and you want to calculate and propagate the uncertanties of \n",
    "\n",
    "$c = log(a~.b) = log(10^{+1.5}_{-3.0}~. 20^{+1.5}_{-5.5})$\n"
   ]
  },
  {
   "cell_type": "code",
   "execution_count": null,
   "metadata": {},
   "outputs": [],
   "source": [
    "a = aufloat(10, 3.0, 1.5, confidence = 90) #creating a and b objects\n",
    "b = aufloat(20, 5.5 ,1.5, confidence = 90) \n",
    "\n",
    "\n",
    "a_data = a.gen_data() #sampling for the Monte Carlo simulation\n",
    "b_data = b.gen_data() \n",
    "c_data = np.log(a_data*b_data)\n",
    "#Create a new 'aufloat' passing the parameter data (array-like) instead of the nominal values and errors\n",
    "c = aufloat(data =c_data, confidence = 90) \n",
    "\n",
    "\n",
    "#or in one step:\n",
    "c = aufloat(data =np.log(a.gen_data()*b.gen_data()), confidence = 90) "
   ]
  },
  {
   "cell_type": "code",
   "execution_count": null,
   "metadata": {},
   "outputs": [],
   "source": [
    "\n",
    "c.plot_delta_chi2_curve()\n",
    "print(c)"
   ]
  },
  {
   "cell_type": "markdown",
   "metadata": {},
   "source": [
    "i.e. $c = 5.22^{+0.23}_{-0.58}$"
   ]
  },
  {
   "cell_type": "markdown",
   "metadata": {},
   "source": [
    "### Rescaling uncertanties\n"
   ]
  },
  {
   "cell_type": "markdown",
   "metadata": {},
   "source": [
    "The uncertanties can be rescaled, for example from 90% to 68% confidence level, using:"
   ]
  },
  {
   "cell_type": "code",
   "execution_count": null,
   "metadata": {},
   "outputs": [],
   "source": [
    "c.rescale_uncertainties(confidence = 68)"
   ]
  },
  {
   "cell_type": "code",
   "execution_count": null,
   "metadata": {},
   "outputs": [],
   "source": [
    "c.plot_delta_chi2_curve()"
   ]
  }
 ],
 "metadata": {
  "kernelspec": {
   "display_name": "Python 3",
   "language": "python",
   "name": "python3"
  },
  "language_info": {
   "codemirror_mode": {
    "name": "ipython",
    "version": 3
   },
   "file_extension": ".py",
   "mimetype": "text/x-python",
   "name": "python",
   "nbconvert_exporter": "python",
   "pygments_lexer": "ipython3",
   "version": "3.7.3"
  }
 },
 "nbformat": 4,
 "nbformat_minor": 2
}
